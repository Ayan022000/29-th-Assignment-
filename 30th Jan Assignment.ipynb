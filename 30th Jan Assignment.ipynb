{
 "cells": [
  {
   "cell_type": "markdown",
   "id": "5464eef8",
   "metadata": {},
   "source": [
    "# Q 1."
   ]
  },
  {
   "cell_type": "markdown",
   "id": "db4f2100",
   "metadata": {},
   "source": [
    "## Write a program to accept percentage from the user and display the grade according to the following"
   ]
  },
  {
   "cell_type": "code",
   "execution_count": 4,
   "id": "2a32dca7",
   "metadata": {},
   "outputs": [
    {
     "name": "stdout",
     "output_type": "stream",
     "text": [
      "Enter the percenteage:78\n",
      "C\n"
     ]
    }
   ],
   "source": [
    "a= int(input('Enter the percenteage:'))\n",
    "\n",
    "if a>90:\n",
    "    print(\"A\")\n",
    "elif a>80 and a<= 90:\n",
    "    print(\"B\")\n",
    "elif a>= 60 and a<= 80:\n",
    "    print(\"C\")\n",
    "elif a< 60:\n",
    "    print(\"D\")"
   ]
  },
  {
   "cell_type": "markdown",
   "id": "1bbcdf3c",
   "metadata": {},
   "source": [
    "# Q 2."
   ]
  },
  {
   "cell_type": "markdown",
   "id": "5a0d352e",
   "metadata": {},
   "source": [
    "## Write a program to accept the cost price of a bike and display the road tax to be paid according to the"
   ]
  },
  {
   "cell_type": "code",
   "execution_count": 5,
   "id": "32a80fdc",
   "metadata": {},
   "outputs": [
    {
     "name": "stdout",
     "output_type": "stream",
     "text": [
      "Enter bike's price :80000\n",
      "Tax : 10%\n"
     ]
    }
   ],
   "source": [
    "b= int(input(\"Enter bike's price :\"))\n",
    "\n",
    "if b > 100000:\n",
    "    print(\"Tax : 15%\")\n",
    "elif b > 50000 and b <= 100000:\n",
    "    print(\"Tax : 10%\")\n",
    "elif b < 50000:\n",
    "    print(\"Tax : 5%\")"
   ]
  },
  {
   "cell_type": "markdown",
   "id": "386b4dd2",
   "metadata": {},
   "source": [
    "# Q 3."
   ]
  },
  {
   "cell_type": "markdown",
   "id": "028b0195",
   "metadata": {},
   "source": [
    "## Accept any city from the user and display monuments of that city. "
   ]
  },
  {
   "cell_type": "code",
   "execution_count": 6,
   "id": "c50f4b99",
   "metadata": {},
   "outputs": [
    {
     "name": "stdout",
     "output_type": "stream",
     "text": [
      "Choose the city --> Delhi , Agra , Jaipur :Delhi\n",
      "Monument : Red Fort\n"
     ]
    }
   ],
   "source": [
    "c = str(input(\"Choose the city --> Delhi , Agra , Jaipur :\"))\n",
    "\n",
    "if c==\"Delhi\":\n",
    "    print(\"Monument : Red Fort\")\n",
    "elif c== \"Agra\":\n",
    "    print('Monument : Taj Mahal')\n",
    "elif c== \"Jaipur\": \n",
    "    print('Monument : Jal Mahal')"
   ]
  },
  {
   "cell_type": "markdown",
   "id": "d75c4cbf",
   "metadata": {},
   "source": [
    "# Q 4."
   ]
  },
  {
   "cell_type": "markdown",
   "id": "3ec9922d",
   "metadata": {},
   "source": [
    "## Check how many times a given number can be divided by 3 before it is less than or equal to 10"
   ]
  },
  {
   "cell_type": "code",
   "execution_count": 8,
   "id": "5489fe4e",
   "metadata": {},
   "outputs": [
    {
     "name": "stdout",
     "output_type": "stream",
     "text": [
      "Enter a number: 199\n",
      "The number can be divided by 3 3 times before it is less than or equal to 10.\n"
     ]
    }
   ],
   "source": [
    "num = int(input(\"Enter a number: \"))\n",
    "count = 0\n",
    "\n",
    "while num > 10:\n",
    "    num /= 3\n",
    "    count += 1\n",
    "\n",
    "print(\"The number can be divided by 3\", count, \"times before it is less than or equal to 10.\")"
   ]
  },
  {
   "cell_type": "markdown",
   "id": "46fc4ccf",
   "metadata": {},
   "source": [
    "# Q 5."
   ]
  },
  {
   "cell_type": "markdown",
   "id": "d022cfd8",
   "metadata": {},
   "source": [
    "## Why and When to Use while Loop in Python give a detailed description with example "
   ]
  },
  {
   "cell_type": "markdown",
   "id": "955f2c8b",
   "metadata": {},
   "source": [
    "In Python, a while loop is used to execute a block of code repeatedly as long as a certain condition is true. The loop continues to run until the condition becomes false.\n",
    "\n",
    "Here are some examples of when you might use a while loop in Python:\n",
    "\n",
    "1. Repeating a set of instructions until a condition is met:"
   ]
  },
  {
   "cell_type": "code",
   "execution_count": 9,
   "id": "8ad3add4",
   "metadata": {},
   "outputs": [
    {
     "name": "stdout",
     "output_type": "stream",
     "text": [
      "Hello, World!\n",
      "Hello, World!\n",
      "Hello, World!\n",
      "Hello, World!\n",
      "Hello, World!\n"
     ]
    }
   ],
   "source": [
    "count = 0\n",
    "while count < 5:\n",
    "    print(\"Hello, World!\")\n",
    "    count += 1"
   ]
  },
  {
   "cell_type": "markdown",
   "id": "8031e9e5",
   "metadata": {},
   "source": [
    "In the above example, the while loop will run until the value of count becomes 5. The loop body contains a print statement that will be executed on each iteration.\n",
    "\n",
    "2. Reading input from a user until valid input is provided:"
   ]
  },
  {
   "cell_type": "code",
   "execution_count": 10,
   "id": "4893e9a4",
   "metadata": {},
   "outputs": [
    {
     "name": "stdout",
     "output_type": "stream",
     "text": [
      "Enter a positive number: 4\n"
     ]
    }
   ],
   "source": [
    "num = 0\n",
    "while num <= 0:\n",
    "    num = int(input(\"Enter a positive number: \"))"
   ]
  },
  {
   "cell_type": "markdown",
   "id": "6df5f726",
   "metadata": {},
   "source": [
    "In the above example, the while loop will run until the user enters a positive number. The loop body contains an input statement that prompts the user to enter a number. The int function is used to convert the user input to an integer. If the user enters a number that is less than or equal to 0, the loop will continue to prompt the user for input.\n",
    "\n",
    "3. Processing a sequence of items until a condition is met:"
   ]
  },
  {
   "cell_type": "code",
   "execution_count": 11,
   "id": "25a3cb99",
   "metadata": {},
   "outputs": [
    {
     "name": "stdout",
     "output_type": "stream",
     "text": [
      "1\n",
      "2\n",
      "3\n",
      "4\n",
      "5\n"
     ]
    }
   ],
   "source": [
    "items = [1, 2, 3, 4, 5]\n",
    "index = 0\n",
    "while index < len(items):\n",
    "    print(items[index])\n",
    "    index += 1"
   ]
  },
  {
   "cell_type": "markdown",
   "id": "99ee3a2c",
   "metadata": {},
   "source": [
    "In the above example, the while loop will iterate over each item in the items list and print it. The loop continues until the value of index is equal to the length of the items list.\n",
    "\n",
    "While while loops can be useful in many situations, it's important to make sure that the loop condition will eventually become false. Otherwise, the loop will run indefinitely, which can cause your program to become unresponsive or crash. To avoid this, you can use a break statement inside the loop to exit early if a certain condition is met."
   ]
  },
  {
   "cell_type": "markdown",
   "id": "bfd56a93",
   "metadata": {},
   "source": [
    "# Q 6."
   ]
  },
  {
   "cell_type": "markdown",
   "id": "2f5e3511",
   "metadata": {},
   "source": [
    "## Use nested while loop to print 3 different pattern."
   ]
  },
  {
   "cell_type": "code",
   "execution_count": 12,
   "id": "78268db2",
   "metadata": {},
   "outputs": [
    {
     "name": "stdout",
     "output_type": "stream",
     "text": [
      "*\n",
      "**\n",
      "***\n",
      "****\n",
      "*****\n"
     ]
    }
   ],
   "source": [
    "# Pattern 1\n",
    "\n",
    "i = 1\n",
    "while i <= 5:\n",
    "    j = 1\n",
    "    while j <= i:\n",
    "        print(\"*\", end=\"\")\n",
    "        j += 1\n",
    "    print()\n",
    "    i += 1"
   ]
  },
  {
   "cell_type": "code",
   "execution_count": 13,
   "id": "08c62dc9",
   "metadata": {},
   "outputs": [
    {
     "name": "stdout",
     "output_type": "stream",
     "text": [
      "    *\n",
      "   **\n",
      "  ***\n",
      " ****\n",
      "*****\n"
     ]
    }
   ],
   "source": [
    "# Pattern 2\n",
    "\n",
    "i = 1\n",
    "while i <= 5:\n",
    "    j = 1\n",
    "    while j <= 5 - i:\n",
    "        print(\" \", end=\"\")\n",
    "        j += 1\n",
    "    k = 1\n",
    "    while k <= i:\n",
    "        print(\"*\", end=\"\")\n",
    "        k += 1\n",
    "    print()\n",
    "    i += 1"
   ]
  },
  {
   "cell_type": "code",
   "execution_count": 14,
   "id": "0c67d80d",
   "metadata": {},
   "outputs": [
    {
     "name": "stdout",
     "output_type": "stream",
     "text": [
      "*****\n",
      " ****\n",
      "  ***\n",
      "   **\n",
      "    *\n"
     ]
    }
   ],
   "source": [
    "# Pattern 3\n",
    "\n",
    "i = 1\n",
    "while i <= 5:\n",
    "    j = 1\n",
    "    while j < i:\n",
    "        print(\" \", end=\"\")\n",
    "        j += 1\n",
    "    k = i\n",
    "    while k <= 5:\n",
    "        print(\"*\", end=\"\")\n",
    "        k += 1\n",
    "    print()\n",
    "    i += 1"
   ]
  },
  {
   "cell_type": "markdown",
   "id": "ac8b663c",
   "metadata": {},
   "source": [
    "In each of the above examples, there are two while loops: an outer while loop that controls the rows, and an inner while loop that controls the columns. The inner while loop prints the characters on each row, and the outer while loop moves to the next row. By using nested while loops, you can create a variety of different patterns and designs."
   ]
  },
  {
   "cell_type": "markdown",
   "id": "3b7f335e",
   "metadata": {},
   "source": [
    "# Q 7."
   ]
  },
  {
   "cell_type": "markdown",
   "id": "ac06dbd7",
   "metadata": {},
   "source": [
    "## Reverse a while loop to display numbers from 10 to 1. "
   ]
  },
  {
   "cell_type": "code",
   "execution_count": 15,
   "id": "0f43e60f",
   "metadata": {},
   "outputs": [
    {
     "name": "stdout",
     "output_type": "stream",
     "text": [
      "10\n",
      "9\n",
      "8\n",
      "7\n",
      "6\n",
      "5\n",
      "4\n",
      "3\n",
      "2\n",
      "1\n"
     ]
    }
   ],
   "source": [
    "i = 10\n",
    "while i >= 1:\n",
    "    print(i)\n",
    "    i -= 1"
   ]
  }
 ],
 "metadata": {
  "kernelspec": {
   "display_name": "Python 3 (ipykernel)",
   "language": "python",
   "name": "python3"
  },
  "language_info": {
   "codemirror_mode": {
    "name": "ipython",
    "version": 3
   },
   "file_extension": ".py",
   "mimetype": "text/x-python",
   "name": "python",
   "nbconvert_exporter": "python",
   "pygments_lexer": "ipython3",
   "version": "3.9.13"
  }
 },
 "nbformat": 4,
 "nbformat_minor": 5
}
